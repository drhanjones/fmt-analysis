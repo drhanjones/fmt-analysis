{
 "cells": [
  {
   "cell_type": "code",
   "id": "initial_id",
   "metadata": {
    "collapsed": true,
    "ExecuteTime": {
     "end_time": "2024-09-08T16:31:57.546429Z",
     "start_time": "2024-09-08T16:31:57.543701Z"
    }
   },
   "source": [
    "import numpy as np\n",
    "from transformers import AutoTokenizer\n",
    "from tqdm import tqdm"
   ],
   "outputs": [],
   "execution_count": 26
  },
  {
   "metadata": {
    "ExecuteTime": {
     "end_time": "2024-09-08T16:57:48.201606Z",
     "start_time": "2024-09-08T16:57:48.168669Z"
    }
   },
   "cell_type": "code",
   "source": [
    "data_path_1 = '/home/abishekthamma/PycharmProjects/masters_thesis/ss-llm/nanoGPT/data/babylm_full_bpe_8k_test'\n",
    "data_path_2 = '/home/abishekthamma/PycharmProjects/masters_thesis/ss-llm/nanoGPT/data/babylm_full_bpe_8k'\n",
    "\n",
    "td = \"train.bin\"\n",
    "vd = \"val.bin\"\n",
    "\n",
    "data_1 = np.memmap(data_path_1 + '/' + td, dtype=np.uint16, mode='r')\n",
    "data_2 = np.memmap(data_path_2 + '/' + td, dtype=np.uint16, mode='r')\n",
    "\n",
    "print(data_1.shape, data_2.shape)\n",
    "\n",
    "tokenizer_1 = AutoTokenizer.from_pretrained(data_path_1)\n",
    "tokenizer_2 = AutoTokenizer.from_pretrained(data_path_2)\n"
   ],
   "id": "165972648ca07524",
   "outputs": [
    {
     "name": "stdout",
     "output_type": "stream",
     "text": [
      "(14545183,) (14545185,)\n"
     ]
    }
   ],
   "execution_count": 39
  },
  {
   "metadata": {
    "ExecuteTime": {
     "end_time": "2024-09-08T16:58:06.080327Z",
     "start_time": "2024-09-08T16:57:48.477140Z"
    }
   },
   "cell_type": "code",
   "source": [
    "tk = 0\n",
    "for i, j in tqdm(enumerate(data_1)):\n",
    "    k = i+tk\n",
    "    if data_1[i] != data_2[k]:\n",
    "        tk+=1\n",
    "        print(i, data_1[i], data_2[k])\n",
    "        if i > 100:\n",
    "            print(data_1[i-5:i+5], \"\\n\", data_2[k-5:k+5])\n",
    "            print(tokenizer_1.decode(data_1[i-5:i+5]), \"\\n  \\n \\n\", tokenizer_2.decode(data_2[k-5:k+5]))\n",
    "            \n",
    "    "
   ],
   "id": "c2bb32213bb7196f",
   "outputs": [
    {
     "name": "stderr",
     "output_type": "stream",
     "text": [
      "5900931it [00:07, 835228.35it/s]"
     ]
    },
    {
     "name": "stdout",
     "output_type": "stream",
     "text": [
      "5769336 1400 997\n",
      "[ 319   12  358  476  311 1400  208  710  478  196] \n",
      " [ 319   12  358  476  311  997 1400  208  710  478]\n",
      " know, she said solike you'd say to \n",
      "  \n",
      " \n",
      "  know, she said so    like you'd say\n"
     ]
    },
    {
     "name": "stderr",
     "output_type": "stream",
     "text": [
      "14545183it [00:17, 826571.85it/s]"
     ]
    },
    {
     "name": "stdout",
     "output_type": "stream",
     "text": [
      "14383913 47 133\n",
      "[ 274  203  173 1332   14   47  444  173  597  513] \n",
      " [ 274  203  173 1332   14  133   47  444  173  597]\n",
      " do in the morning.i think the only people \n",
      "  \n",
      " \n",
      "  do in the morning. i think the only\n"
     ]
    },
    {
     "name": "stderr",
     "output_type": "stream",
     "text": [
      "\n"
     ]
    }
   ],
   "execution_count": 40
  },
  {
   "metadata": {
    "ExecuteTime": {
     "end_time": "2024-09-08T16:30:50.653671Z",
     "start_time": "2024-09-08T16:30:50.650946Z"
    }
   },
   "cell_type": "code",
   "source": "",
   "id": "e8176b1a2676cae0",
   "outputs": [],
   "execution_count": null
  },
  {
   "metadata": {
    "ExecuteTime": {
     "end_time": "2024-09-08T16:30:50.900643Z",
     "start_time": "2024-09-08T16:30:50.898586Z"
    }
   },
   "cell_type": "code",
   "source": "",
   "id": "2654fc49305952ea",
   "outputs": [],
   "execution_count": null
  },
  {
   "metadata": {},
   "cell_type": "code",
   "outputs": [],
   "execution_count": null,
   "source": "",
   "id": "af8007a25a41dee7"
  }
 ],
 "metadata": {
  "kernelspec": {
   "display_name": "Python 3",
   "language": "python",
   "name": "python3"
  },
  "language_info": {
   "codemirror_mode": {
    "name": "ipython",
    "version": 2
   },
   "file_extension": ".py",
   "mimetype": "text/x-python",
   "name": "python",
   "nbconvert_exporter": "python",
   "pygments_lexer": "ipython2",
   "version": "2.7.6"
  }
 },
 "nbformat": 4,
 "nbformat_minor": 5
}
